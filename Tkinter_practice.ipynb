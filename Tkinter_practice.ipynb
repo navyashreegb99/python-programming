{
 "cells": [
  {
   "cell_type": "code",
   "execution_count": 2,
   "id": "efa57718",
   "metadata": {},
   "outputs": [],
   "source": [
    "#creating window\n",
    "from tkinter import *\n",
    "root=Tk()\n",
    "myLabel=Label(root,text=\"Hello world!\").pack()\n",
    "root.mainloop()"
   ]
  },
  {
   "cell_type": "code",
   "execution_count": 3,
   "id": "bbe4499a",
   "metadata": {},
   "outputs": [],
   "source": [
    "#creating labels\n",
    "from tkinter import *\n",
    "root=Tk()\n",
    "myLabel1=Label(root,text=\"Hello world!\").pack()\n",
    "myLabel2=Label(root,text=\"I am navya\").pack()\n",
    "#myLabel1.grid(row=0,column=0)\n",
    "#myLabel2.grid(row=1,column=1)\n",
    "myButton=Button(root,text=\"Click me!\").pack()\n",
    "root.mainloop()"
   ]
  },
  {
   "cell_type": "code",
   "execution_count": 4,
   "id": "041e18b3",
   "metadata": {},
   "outputs": [],
   "source": [
    "#creating buttons\n",
    "root=Tk()\n",
    "e=Entry(root,width=50,borderwidth=5,bg=\"black\",fg=\"white\")\n",
    "e.pack()\n",
    "e.insert(0,\"Enter your name: \")\n",
    "\n",
    "def myclick():\n",
    "    hello=\"Hello \"+e.get()\n",
    "    myLabel3=Label(root,text=hello)\n",
    "    myLabel3.pack()\n",
    "\n",
    "myButton=Button(root,text=\"Enter your name\",command=myclick,padx=50,pady=10,fg=\"white\",bg=\"black\")\n",
    "myButton.pack()\n",
    "root.mainloop()"
   ]
  },
  {
   "cell_type": "code",
   "execution_count": 5,
   "id": "1702a619",
   "metadata": {},
   "outputs": [],
   "source": [
    "#creating entry feild\n",
    "root=Tk()\n",
    "e=Entry(root,width=50,borderwidth=5,bg=\"black\",fg=\"white\").pack()\n",
    "root.mainloop()"
   ]
  },
  {
   "cell_type": "code",
   "execution_count": 45,
   "id": "1bcbeba0",
   "metadata": {},
   "outputs": [
    {
     "name": "stdout",
     "output_type": "stream",
     "text": [
      "4\n"
     ]
    }
   ],
   "source": [
    "#Design calculator\n",
    "root=Tk()\n",
    "root.title(\"Simple calculator\")\n",
    "e=Entry(root,width=40,borderwidth=5)\n",
    "e.grid(row=0,column=0,columnspan=4,padx=10,pady=10)\n",
    "\n",
    "\n",
    "def cal_button(number):\n",
    "    current=e.get()\n",
    "    e.delete(0,END)\n",
    "    e.insert(0,str(current)+str(number))\n",
    "    \n",
    "def cal_sym(sign):\n",
    "    global first_num\n",
    "    first_num=e.get()\n",
    "    global sym\n",
    "    sym=sign\n",
    "    e.delete(0,END)\n",
    "    \n",
    "def cal_eql():\n",
    "    second_num=e.get()\n",
    "    print(second_num)\n",
    "    e.delete(0,END)\n",
    "    if sym==\"add\":\n",
    "        e.insert(0,str(float(first_num)+float(second_num)))\n",
    "    elif sym==\"sub\":\n",
    "        e.insert(0,str(float(first_num)-float(second_num)))\n",
    "    elif sym==\"mul\":\n",
    "        e.insert(0,str(float(first_num)*float(second_num)))\n",
    "    elif sym==\"div\":\n",
    "        e.insert(0,str(float(first_num)/float(second_num)))\n",
    "        \n",
    "\n",
    "def cal_clear():\n",
    "    e.delete(0,END)\n",
    "\n",
    "#defining buttons\n",
    "But1=Button(root,text=\"1\",padx=20,pady=20,command=lambda:cal_button(1))\n",
    "But2=Button(root,text=\"2\",padx=20,pady=20,command=lambda:cal_button(2))\n",
    "But3=Button(root,text=\"3\",padx=20,pady=20,command=lambda:cal_button(3))\n",
    "But4=Button(root,text=\"4\",padx=20,pady=20,command=lambda:cal_button(4))\n",
    "But5=Button(root,text=\"5\",padx=20,pady=20,command=lambda:cal_button(5))\n",
    "But6=Button(root,text=\"6\",padx=20,pady=20,command=lambda:cal_button(6))\n",
    "But7=Button(root,text=\"7\",padx=20,pady=20,command=lambda:cal_button(7))\n",
    "But8=Button(root,text=\"8\",padx=20,pady=20,command=lambda:cal_button(8))\n",
    "But9=Button(root,text=\"9\",padx=20,pady=20,command=lambda:cal_button(9))\n",
    "But0=Button(root,text=\"0\",padx=20,pady=20,command=lambda:cal_button(0))\n",
    "\n",
    "But_add=Button(root,text=\"+\",padx=20,pady=20,command=lambda:cal_sym(\"add\"))\n",
    "But_sub=Button(root,text=\"-\",padx=20,pady=20,command=lambda:cal_sym(\"sub\"))\n",
    "But_mul=Button(root,text=\"*\",padx=20,pady=20,command=lambda:cal_sym(\"mul\"))\n",
    "But_div=Button(root,text=\"/\",padx=20,pady=20,command=lambda:cal_sym(\"div\"))\n",
    "But_eql=Button(root,text=\"=\",padx=20,pady=20,command=cal_eql)\n",
    "But_clr=Button(root,text=\"clear\",padx=40,pady=20,command=cal_clear)\n",
    "But_dot=Button(root,text=\".\",padx=20,pady=20,command=lambda:cal_button(\".\"))\n",
    "\n",
    "#To put buttons on screen\n",
    "But_clr.grid(row=1,column=1,columnspan=2)\n",
    "But_eql.grid(row=1,column=3)\n",
    "\n",
    "But1.grid(row=4,column=0)\n",
    "But2.grid(row=4,column=1)\n",
    "But3.grid(row=4,column=2)\n",
    "But_add.grid(row=4,column=3)\n",
    "\n",
    "But4.grid(row=3,column=0)\n",
    "But5.grid(row=3,column=1)\n",
    "But6.grid(row=3,column=2)\n",
    "But_mul.grid(row=3,column=3)\n",
    "\n",
    "But7.grid(row=2,column=0)\n",
    "But8.grid(row=2,column=1)\n",
    "But9.grid(row=2,column=2)\n",
    "But_div.grid(row=2,column=3)\n",
    "\n",
    "But0.grid(row=5,column=0)\n",
    "But_dot.grid(row=5,column=1)\n",
    "But_sub.grid(row=5,column=3)\n",
    "\n",
    "\n",
    "\n",
    "\n",
    "root.mainloop()"
   ]
  },
  {
   "cell_type": "code",
   "execution_count": null,
   "id": "d4b72391",
   "metadata": {},
   "outputs": [],
   "source": []
  },
  {
   "cell_type": "code",
   "execution_count": null,
   "id": "ecc33abf",
   "metadata": {},
   "outputs": [],
   "source": []
  }
 ],
 "metadata": {
  "kernelspec": {
   "display_name": "Python 3",
   "language": "python",
   "name": "python3"
  },
  "language_info": {
   "codemirror_mode": {
    "name": "ipython",
    "version": 3
   },
   "file_extension": ".py",
   "mimetype": "text/x-python",
   "name": "python",
   "nbconvert_exporter": "python",
   "pygments_lexer": "ipython3",
   "version": "3.9.4"
  }
 },
 "nbformat": 4,
 "nbformat_minor": 5
}
