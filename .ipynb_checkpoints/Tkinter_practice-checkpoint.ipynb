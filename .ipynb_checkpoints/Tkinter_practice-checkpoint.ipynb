{
 "cells": [
  {
   "cell_type": "code",
   "execution_count": 2,
   "id": "efa57718",
   "metadata": {},
   "outputs": [],
   "source": [
    "#creating window\n",
    "from tkinter import *\n",
    "root=Tk()\n",
    "myLabel=Label(root,text=\"Hello world!\").pack()\n",
    "root.mainloop()"
   ]
  },
  {
   "cell_type": "code",
   "execution_count": 3,
   "id": "bbe4499a",
   "metadata": {},
   "outputs": [],
   "source": [
    "#creating labels\n",
    "from tkinter import *\n",
    "root=Tk()\n",
    "myLabel1=Label(root,text=\"Hello world!\").pack()\n",
    "myLabel2=Label(root,text=\"I am navya\").pack()\n",
    "#myLabel1.grid(row=0,column=0)\n",
    "#myLabel2.grid(row=1,column=1)\n",
    "myButton=Button(root,text=\"Click me!\").pack()\n",
    "root.mainloop()"
   ]
  },
  {
   "cell_type": "code",
   "execution_count": 4,
   "id": "041e18b3",
   "metadata": {},
   "outputs": [],
   "source": [
    "#creating buttons\n",
    "root=Tk()\n",
    "e=Entry(root,width=50,borderwidth=5,bg=\"black\",fg=\"white\")\n",
    "e.pack()\n",
    "e.insert(0,\"Enter your name: \")\n",
    "\n",
    "def myclick():\n",
    "    hello=\"Hello \"+e.get()\n",
    "    myLabel3=Label(root,text=hello)\n",
    "    myLabel3.pack()\n",
    "\n",
    "myButton=Button(root,text=\"Enter your name\",command=myclick,padx=50,pady=10,fg=\"white\",bg=\"black\")\n",
    "myButton.pack()\n",
    "root.mainloop()"
   ]
  },
  {
   "cell_type": "code",
   "execution_count": 5,
   "id": "1702a619",
   "metadata": {},
   "outputs": [],
   "source": [
    "#creating entry feild\n",
    "root=Tk()\n",
    "e=Entry(root,width=50,borderwidth=5,bg=\"black\",fg=\"white\").pack()\n",
    "root.mainloop()"
   ]
  },
  {
   "cell_type": "code",
   "execution_count": 45,
   "id": "1bcbeba0",
   "metadata": {},
   "outputs": [
    {
     "name": "stdout",
     "output_type": "stream",
     "text": [
      "4\n"
     ]
    }
   ],
   "source": [
    "#Design calculator\n",
    "root=Tk()\n",
    "root.title(\"Simple calculator\")\n",
    "e=Entry(root,width=40,borderwidth=5)\n",
    "e.grid(row=0,column=0,columnspan=4,padx=10,pady=10)\n",
    "\n",
    "\n",
    "def cal_button(number):\n",
    "    current=e.get()\n",
    "    e.delete(0,END)\n",
    "    e.insert(0,str(current)+str(number))\n",
    "    \n",
    "def cal_sym(sign):\n",
    "    global first_num\n",
    "    first_num=e.get()\n",
    "    global sym\n",
    "    sym=sign\n",
    "    e.delete(0,END)\n",
    "    \n",
    "def cal_eql():\n",
    "    second_num=e.get()\n",
    "    print(second_num)\n",
    "    e.delete(0,END)\n",
    "    if sym==\"add\":\n",
    "        e.insert(0,str(float(first_num)+float(second_num)))\n",
    "    elif sym==\"sub\":\n",
    "        e.insert(0,str(float(first_num)-float(second_num)))\n",
    "    elif sym==\"mul\":\n",
    "        e.insert(0,str(float(first_num)*float(second_num)))\n",
    "    elif sym==\"div\":\n",
    "        e.insert(0,str(float(first_num)/float(second_num)))\n",
    "        \n",
    "\n",
    "def cal_clear():\n",
    "    e.delete(0,END)\n",
    "\n",
    "#defining buttons\n",
    "But1=Button(root,text=\"1\",padx=20,pady=20,command=lambda:cal_button(1))\n",
    "But2=Button(root,text=\"2\",padx=20,pady=20,command=lambda:cal_button(2))\n",
    "But3=Button(root,text=\"3\",padx=20,pady=20,command=lambda:cal_button(3))\n",
    "But4=Button(root,text=\"4\",padx=20,pady=20,command=lambda:cal_button(4))\n",
    "But5=Button(root,text=\"5\",padx=20,pady=20,command=lambda:cal_button(5))\n",
    "But6=Button(root,text=\"6\",padx=20,pady=20,command=lambda:cal_button(6))\n",
    "But7=Button(root,text=\"7\",padx=20,pady=20,command=lambda:cal_button(7))\n",
    "But8=Button(root,text=\"8\",padx=20,pady=20,command=lambda:cal_button(8))\n",
    "But9=Button(root,text=\"9\",padx=20,pady=20,command=lambda:cal_button(9))\n",
    "But0=Button(root,text=\"0\",padx=20,pady=20,command=lambda:cal_button(0))\n",
    "\n",
    "But_add=Button(root,text=\"+\",padx=20,pady=20,command=lambda:cal_sym(\"add\"))\n",
    "But_sub=Button(root,text=\"-\",padx=20,pady=20,command=lambda:cal_sym(\"sub\"))\n",
    "But_mul=Button(root,text=\"*\",padx=20,pady=20,command=lambda:cal_sym(\"mul\"))\n",
    "But_div=Button(root,text=\"/\",padx=20,pady=20,command=lambda:cal_sym(\"div\"))\n",
    "But_eql=Button(root,text=\"=\",padx=20,pady=20,command=cal_eql)\n",
    "But_clr=Button(root,text=\"clear\",padx=40,pady=20,command=cal_clear)\n",
    "But_dot=Button(root,text=\".\",padx=20,pady=20,command=lambda:cal_button(\".\"))\n",
    "\n",
    "#To put buttons on screen\n",
    "But_clr.grid(row=1,column=1,columnspan=2)\n",
    "But_eql.grid(row=1,column=3)\n",
    "\n",
    "But1.grid(row=4,column=0)\n",
    "But2.grid(row=4,column=1)\n",
    "But3.grid(row=4,column=2)\n",
    "But_add.grid(row=4,column=3)\n",
    "\n",
    "But4.grid(row=3,column=0)\n",
    "But5.grid(row=3,column=1)\n",
    "But6.grid(row=3,column=2)\n",
    "But_mul.grid(row=3,column=3)\n",
    "\n",
    "But7.grid(row=2,column=0)\n",
    "But8.grid(row=2,column=1)\n",
    "But9.grid(row=2,column=2)\n",
    "But_div.grid(row=2,column=3)\n",
    "\n",
    "But0.grid(row=5,column=0)\n",
    "But_dot.grid(row=5,column=1)\n",
    "But_sub.grid(row=5,column=3)\n",
    "\n",
    "\n",
    "\n",
    "\n",
    "root.mainloop()"
   ]
  },
  {
   "cell_type": "code",
   "execution_count": 3,
   "id": "d4b72391",
   "metadata": {},
   "outputs": [],
   "source": [
    "#creating icon\n",
    "from tkinter import *\n",
    "root=Tk()\n",
    "root.title(\"New icon creation\")\n",
    "#root.iconbitmap(\"path for icon\")\n",
    "root.mainloop()"
   ]
  },
  {
   "cell_type": "code",
   "execution_count": 5,
   "id": "ecc33abf",
   "metadata": {},
   "outputs": [
    {
     "name": "stdout",
     "output_type": "stream",
     "text": [
      "Collecting pillow\n",
      "  Downloading Pillow-8.2.0-cp39-cp39-win_amd64.whl (2.2 MB)\n",
      "Installing collected packages: pillow\n",
      "Successfully installed pillow-8.2.0\n",
      "Note: you may need to restart the kernel to use updated packages.\n"
     ]
    },
    {
     "name": "stderr",
     "output_type": "stream",
     "text": [
      "WARNING: You are using pip version 20.2.3; however, version 21.1.1 is available.\n",
      "You should consider upgrading via the 'c:\\users\\u6059922\\appdata\\local\\programs\\python\\python39\\python.exe -m pip install --upgrade pip' command.\n"
     ]
    }
   ],
   "source": [
    "pip install pillow"
   ]
  },
  {
   "cell_type": "code",
   "execution_count": 6,
   "id": "5e080f4a",
   "metadata": {},
   "outputs": [
    {
     "name": "stdout",
     "output_type": "stream",
     "text": [
      "argon2-cffi==20.1.0\n",
      "async-generator==1.10\n",
      "attrs==21.2.0\n",
      "backcall==0.2.0\n",
      "bleach==3.3.0\n",
      "cffi==1.14.5\n",
      "colorama==0.4.4\n",
      "decorator==5.0.9\n",
      "defusedxml==0.7.1\n",
      "entrypoints==0.3\n",
      "ipykernel==5.5.5\n",
      "ipython==7.23.1\n",
      "ipython-genutils==0.2.0\n",
      "ipywidgets==7.6.3\n",
      "jedi==0.18.0\n",
      "Jinja2==3.0.0\n",
      "jsonschema==3.2.0\n",
      "jupyter==1.0.0\n",
      "jupyter-client==6.1.12\n",
      "jupyter-console==6.4.0\n",
      "jupyter-core==4.7.1\n",
      "jupyterlab-pygments==0.1.2\n",
      "jupyterlab-widgets==1.0.0\n",
      "MarkupSafe==2.0.0\n",
      "matplotlib-inline==0.1.2\n",
      "mistune==0.8.4\n",
      "nbclient==0.5.3\n",
      "nbconvert==6.0.7\n",
      "nbformat==5.1.3\n",
      "nest-asyncio==1.5.1\n",
      "notebook==6.4.0\n",
      "packaging==20.9\n",
      "pandocfilters==1.4.3\n",
      "parso==0.8.2\n",
      "pickleshare==0.7.5\n",
      "Pillow==8.2.0\n",
      "prometheus-client==0.10.1\n",
      "prompt-toolkit==3.0.18\n",
      "pycparser==2.20\n",
      "Pygments==2.9.0\n",
      "pyparsing==2.4.7\n",
      "pyrsistent==0.17.3\n",
      "python-dateutil==2.8.1\n",
      "pywin32==300\n",
      "pywinpty==0.5.7\n",
      "pyzmq==22.0.3\n",
      "qtconsole==5.1.0\n",
      "QtPy==1.9.0\n",
      "Send2Trash==1.5.0\n",
      "six==1.16.0\n",
      "terminado==0.9.5\n",
      "testpath==0.5.0\n",
      "tornado==6.1\n",
      "traitlets==5.0.5\n",
      "wcwidth==0.2.5\n",
      "webencodings==0.5.1\n",
      "widgetsnbextension==3.5.1\n",
      "Note: you may need to restart the kernel to use updated packages.\n"
     ]
    }
   ],
   "source": [
    "pip freeze\n"
   ]
  },
  {
   "cell_type": "code",
   "execution_count": 10,
   "id": "16827a14",
   "metadata": {},
   "outputs": [],
   "source": [
    "#adding images to window\n",
    "\n",
    "from tkinter import *\n",
    "from PIL import ImageTk,Image\n",
    "root=Tk()\n",
    "root.title(\"My gui\")\n",
    "#root.iconbitmap(\"path for icon\")\n",
    "\n",
    "my_img=ImageTk.PhotoImage(Image.open(\"C:/Users/U6059922/Downloads/fire.png\"))\n",
    "mylabel=Label(image=my_img)\n",
    "mylabel.pack()\n",
    "\n",
    "button_quit=Button(root,text=\"Exit\",command=root.quit)\n",
    "button_quit.pack()\n",
    "\n",
    "root.mainloop()"
   ]
  },
  {
   "cell_type": "code",
   "execution_count": null,
   "id": "1a79e795",
   "metadata": {},
   "outputs": [],
   "source": []
  }
 ],
 "metadata": {
  "kernelspec": {
   "display_name": "Python 3",
   "language": "python",
   "name": "python3"
  },
  "language_info": {
   "codemirror_mode": {
    "name": "ipython",
    "version": 3
   },
   "file_extension": ".py",
   "mimetype": "text/x-python",
   "name": "python",
   "nbconvert_exporter": "python",
   "pygments_lexer": "ipython3",
   "version": "3.9.4"
  }
 },
 "nbformat": 4,
 "nbformat_minor": 5
}
