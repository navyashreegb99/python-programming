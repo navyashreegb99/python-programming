{
 "cells": [
  {
   "cell_type": "code",
   "execution_count": 3,
   "id": "64a0414b",
   "metadata": {},
   "outputs": [
    {
     "name": "stdout",
     "output_type": "stream",
     "text": [
      "       #                   Name   Type 1  Type 2  HP  Attack  Defense  \\\n",
      "0      1              Bulbasaur    Grass  Poison  45      49       49   \n",
      "1      2                Ivysaur    Grass  Poison  60      62       63   \n",
      "2      3               Venusaur    Grass  Poison  80      82       83   \n",
      "3      3  VenusaurMega Venusaur    Grass  Poison  80     100      123   \n",
      "4      4             Charmander     Fire     NaN  39      52       43   \n",
      "..   ...                    ...      ...     ...  ..     ...      ...   \n",
      "795  719                Diancie     Rock   Fairy  50     100      150   \n",
      "796  719    DiancieMega Diancie     Rock   Fairy  50     160      110   \n",
      "797  720    HoopaHoopa Confined  Psychic   Ghost  80     110       60   \n",
      "798  720     HoopaHoopa Unbound  Psychic    Dark  80     160       60   \n",
      "799  721              Volcanion     Fire   Water  80     110      120   \n",
      "\n",
      "     Sp. Atk  Sp. Def  Speed  Generation  Legendary  \n",
      "0         65       65     45           1      False  \n",
      "1         80       80     60           1      False  \n",
      "2        100      100     80           1      False  \n",
      "3        122      120     80           1      False  \n",
      "4         60       50     65           1      False  \n",
      "..       ...      ...    ...         ...        ...  \n",
      "795      100      150     50           6       True  \n",
      "796      160      110    110           6       True  \n",
      "797      150      130     70           6       True  \n",
      "798      170      130     80           6       True  \n",
      "799      130       90     70           6       True  \n",
      "\n",
      "[800 rows x 12 columns]\n"
     ]
    }
   ],
   "source": [
    "import pandas as pd\n",
    "\n",
    "#df=pd.read_csv('pokemon_data.csv')\n",
    "#print(df.head(3))\n",
    "#print(df.tail(3))\n",
    "\n",
    "#df_xlsx=pd.read_excel('pokemon_data.xlsx')\n",
    "#print(df_xlsx.tail(3))\n",
    "\n",
    "df=pd.read_csv('pokemon_data.txt',delimiter='\\t')\n",
    "print(df)"
   ]
  },
  {
   "cell_type": "code",
   "execution_count": 17,
   "id": "600d7596",
   "metadata": {},
   "outputs": [
    {
     "name": "stdout",
     "output_type": "stream",
     "text": [
      "1                      Ivysaur\n",
      "2                     Venusaur\n",
      "3        VenusaurMega Venusaur\n",
      "4                   Charmander\n",
      "5                   Charmeleon\n",
      "6                    Charizard\n",
      "7    CharizardMega Charizard X\n",
      "8    CharizardMega Charizard Y\n",
      "9                     Squirtle\n",
      "Name: Name, dtype: object\n",
      "   #                       Name Type 1\n",
      "0  1                  Bulbasaur  Grass\n",
      "1  2                    Ivysaur  Grass\n",
      "2  3                   Venusaur  Grass\n",
      "3  3      VenusaurMega Venusaur  Grass\n",
      "4  4                 Charmander   Fire\n",
      "5  5                 Charmeleon   Fire\n",
      "6  6                  Charizard   Fire\n",
      "7  6  CharizardMega Charizard X   Fire\n",
      "8  6  CharizardMega Charizard Y   Fire\n",
      "9  7                   Squirtle  Water\n"
     ]
    }
   ],
   "source": [
    "#Read headers\n",
    "#print(df.columns)\n",
    "\n",
    "#Read a specific column\n",
    "print(df['Name'][1:10])\n",
    "print(df[['#','Name','Type 1']][0:10])"
   ]
  },
  {
   "cell_type": "code",
   "execution_count": 19,
   "id": "1696ec33",
   "metadata": {},
   "outputs": [
    {
     "name": "stdout",
     "output_type": "stream",
     "text": [
      "Series([], dtype: int32)\n"
     ]
    }
   ],
   "source": [
    "#Pandas Series\n",
    "import pandas as pd\n",
    "s=pd.Series(dtype=int)\n",
    "print(s)"
   ]
  },
  {
   "cell_type": "code",
   "execution_count": 22,
   "id": "1deb4223",
   "metadata": {},
   "outputs": [
    {
     "name": "stdout",
     "output_type": "stream",
     "text": [
      "0    a\n",
      "1    b\n",
      "2    c\n",
      "3    d\n",
      "dtype: object\n"
     ]
    }
   ],
   "source": [
    "import numpy as np\n",
    "data=np.array(['a','b','c','d'])\n",
    "s1=pd.Series(data)\n",
    "print(s1)"
   ]
  },
  {
   "cell_type": "code",
   "execution_count": 31,
   "id": "fd4fa282",
   "metadata": {},
   "outputs": [
    {
     "name": "stdout",
     "output_type": "stream",
     "text": [
      "100    a\n",
      "101    b\n",
      "102    c\n",
      "103    d\n",
      "dtype: object\n"
     ]
    }
   ],
   "source": [
    "s2=pd.Series(data,index=[100,101,102,103])\n",
    "print(s2)"
   ]
  },
  {
   "cell_type": "code",
   "execution_count": 28,
   "id": "dbb641b0",
   "metadata": {},
   "outputs": [
    {
     "name": "stdout",
     "output_type": "stream",
     "text": [
      "a    1.0\n",
      "e    5.0\n",
      "d    4.0\n",
      "b    2.0\n",
      "c    3.0\n",
      "f    NaN\n",
      "dtype: float64\n"
     ]
    }
   ],
   "source": [
    "dic={'a':1,'b':2,'c':3,'d':4,'e':5}\n",
    "s=pd.Series(dic,index=['a','e','d','b','c','f'])\n",
    "print(s)"
   ]
  },
  {
   "cell_type": "code",
   "execution_count": 33,
   "id": "6465bd81",
   "metadata": {},
   "outputs": [
    {
     "name": "stdout",
     "output_type": "stream",
     "text": [
      "0    5\n",
      "1    5\n",
      "2    5\n",
      "3    5\n",
      "4    5\n",
      "5    5\n",
      "dtype: int64\n"
     ]
    }
   ],
   "source": [
    "s=pd.Series(5,[0,1,2,3,4,5])\n",
    "print(s)"
   ]
  },
  {
   "cell_type": "code",
   "execution_count": 40,
   "id": "d518f4ef",
   "metadata": {},
   "outputs": [
    {
     "name": "stdout",
     "output_type": "stream",
     "text": [
      "100\n",
      "0    100\n",
      "1    101\n",
      "2    102\n",
      "dtype: int64\n",
      "4    104\n",
      "5    105\n",
      "dtype: int64\n"
     ]
    }
   ],
   "source": [
    "s=pd.Series([100,101,102,103,104,105,106],index=[0,1,2,3,4,5,6])\n",
    "print(s[0])\n",
    "print(s[:3])\n",
    "print(s[-3:-1])"
   ]
  },
  {
   "cell_type": "code",
   "execution_count": 43,
   "id": "d0ef031a",
   "metadata": {},
   "outputs": [
    {
     "name": "stdout",
     "output_type": "stream",
     "text": [
      "1    101\n",
      "2    102\n",
      "3    103\n",
      "dtype: int64\n"
     ]
    }
   ],
   "source": [
    "print(s[[1,2,3]])"
   ]
  },
  {
   "cell_type": "code",
   "execution_count": 48,
   "id": "08df737a",
   "metadata": {},
   "outputs": [
    {
     "name": "stdout",
     "output_type": "stream",
     "text": [
      "a    100\n",
      "b    101\n",
      "c    102\n",
      "dtype: int64\n"
     ]
    }
   ],
   "source": [
    "s=pd.Series([100,101,102,103,104,105,106],index=['a','b','c','d','e','f','g'])\n",
    "print(s[['a','b','c']])"
   ]
  },
  {
   "cell_type": "code",
   "execution_count": 49,
   "id": "55703351",
   "metadata": {},
   "outputs": [
    {
     "name": "stdout",
     "output_type": "stream",
     "text": [
      "Empty DataFrame\n",
      "Columns: []\n",
      "Index: []\n"
     ]
    }
   ],
   "source": [
    "#Creating Dataframe\n",
    "df=pd.DataFrame()\n",
    "print(df)"
   ]
  },
  {
   "cell_type": "code",
   "execution_count": 51,
   "id": "021a15be",
   "metadata": {},
   "outputs": [
    {
     "name": "stdout",
     "output_type": "stream",
     "text": [
      "   0\n",
      "0  1\n",
      "1  2\n",
      "2  3\n",
      "3  4\n"
     ]
    }
   ],
   "source": [
    "df=pd.DataFrame([1,2,3,4])\n",
    "print(df)"
   ]
  },
  {
   "cell_type": "code",
   "execution_count": 56,
   "id": "c3d51753",
   "metadata": {},
   "outputs": [
    {
     "name": "stdout",
     "output_type": "stream",
     "text": [
      "        Name  PhoneNo\n",
      "0      Navya    70903\n",
      "1  Bharatesh    99167\n",
      "2      Latha    97310\n"
     ]
    }
   ],
   "source": [
    "data=[['Navya',70903],['Bharatesh',99167],['Latha',97310]]\n",
    "df=pd.DataFrame(data,columns=['Name','PhoneNo'],dtype='int')\n",
    "print(df)\n"
   ]
  },
  {
   "cell_type": "code",
   "execution_count": 58,
   "id": "8cd91023",
   "metadata": {},
   "outputs": [
    {
     "name": "stdout",
     "output_type": "stream",
     "text": [
      "        Name Gender\n",
      "First  Navya      f\n",
      "Sec    Nandu      f\n",
      "third   Bhuv      m\n"
     ]
    }
   ],
   "source": [
    "dic={'Name':['Navya','Nandu','Bhuv'],'Gender':['f','f','m']}\n",
    "df=pd.DataFrame(dic,index=['First','Sec','third'])\n",
    "print(df)"
   ]
  },
  {
   "cell_type": "code",
   "execution_count": null,
   "id": "51505dd6",
   "metadata": {},
   "outputs": [],
   "source": []
  }
 ],
 "metadata": {
  "kernelspec": {
   "display_name": "Python 3",
   "language": "python",
   "name": "python3"
  },
  "language_info": {
   "codemirror_mode": {
    "name": "ipython",
    "version": 3
   },
   "file_extension": ".py",
   "mimetype": "text/x-python",
   "name": "python",
   "nbconvert_exporter": "python",
   "pygments_lexer": "ipython3",
   "version": "3.9.4"
  }
 },
 "nbformat": 4,
 "nbformat_minor": 5
}
