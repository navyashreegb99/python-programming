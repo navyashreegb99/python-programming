{
 "cells": [
  {
   "cell_type": "code",
   "execution_count": 4,
   "id": "64a0414b",
   "metadata": {},
   "outputs": [
    {
     "name": "stdout",
     "output_type": "stream",
     "text": [
      "       #                   Name   Type 1  Type 2  HP  Attack  Defense  \\\n",
      "0      1              Bulbasaur    Grass  Poison  45      49       49   \n",
      "1      2                Ivysaur    Grass  Poison  60      62       63   \n",
      "2      3               Venusaur    Grass  Poison  80      82       83   \n",
      "3      3  VenusaurMega Venusaur    Grass  Poison  80     100      123   \n",
      "4      4             Charmander     Fire     NaN  39      52       43   \n",
      "..   ...                    ...      ...     ...  ..     ...      ...   \n",
      "795  719                Diancie     Rock   Fairy  50     100      150   \n",
      "796  719    DiancieMega Diancie     Rock   Fairy  50     160      110   \n",
      "797  720    HoopaHoopa Confined  Psychic   Ghost  80     110       60   \n",
      "798  720     HoopaHoopa Unbound  Psychic    Dark  80     160       60   \n",
      "799  721              Volcanion     Fire   Water  80     110      120   \n",
      "\n",
      "     Sp. Atk  Sp. Def  Speed  Generation  Legendary  \n",
      "0         65       65     45           1      False  \n",
      "1         80       80     60           1      False  \n",
      "2        100      100     80           1      False  \n",
      "3        122      120     80           1      False  \n",
      "4         60       50     65           1      False  \n",
      "..       ...      ...    ...         ...        ...  \n",
      "795      100      150     50           6       True  \n",
      "796      160      110    110           6       True  \n",
      "797      150      130     70           6       True  \n",
      "798      170      130     80           6       True  \n",
      "799      130       90     70           6       True  \n",
      "\n",
      "[800 rows x 12 columns]\n"
     ]
    }
   ],
   "source": [
    "import pandas as pd\n",
    "\n",
    "#df=pd.read_csv('pokemon_data.csv')\n",
    "#print(df.head(3))\n",
    "#print(df.tail(3))\n",
    "\n",
    "#df_xlsx=pd.read_excel('pokemon_data.xlsx')\n",
    "#print(df_xlsx.tail(3))\n",
    "\n",
    "df=pd.read_csv('pokemon_data.txt',delimiter='\\t')\n",
    "print(df)"
   ]
  },
  {
   "cell_type": "code",
   "execution_count": 5,
   "id": "600d7596",
   "metadata": {},
   "outputs": [
    {
     "name": "stdout",
     "output_type": "stream",
     "text": [
      "1                      Ivysaur\n",
      "2                     Venusaur\n",
      "3        VenusaurMega Venusaur\n",
      "4                   Charmander\n",
      "5                   Charmeleon\n",
      "6                    Charizard\n",
      "7    CharizardMega Charizard X\n",
      "8    CharizardMega Charizard Y\n",
      "9                     Squirtle\n",
      "Name: Name, dtype: object\n",
      "   #                       Name Type 1\n",
      "0  1                  Bulbasaur  Grass\n",
      "1  2                    Ivysaur  Grass\n",
      "2  3                   Venusaur  Grass\n",
      "3  3      VenusaurMega Venusaur  Grass\n",
      "4  4                 Charmander   Fire\n",
      "5  5                 Charmeleon   Fire\n",
      "6  6                  Charizard   Fire\n",
      "7  6  CharizardMega Charizard X   Fire\n",
      "8  6  CharizardMega Charizard Y   Fire\n",
      "9  7                   Squirtle  Water\n"
     ]
    }
   ],
   "source": [
    "#Read headers\n",
    "#print(df.columns)\n",
    "\n",
    "#Read a specific column\n",
    "print(df['Name'][1:10])\n",
    "print(df[['#','Name','Type 1']][0:10])"
   ]
  },
  {
   "cell_type": "code",
   "execution_count": 6,
   "id": "1696ec33",
   "metadata": {},
   "outputs": [
    {
     "name": "stdout",
     "output_type": "stream",
     "text": [
      "Series([], dtype: int32)\n"
     ]
    }
   ],
   "source": [
    "#Pandas Series\n",
    "import pandas as pd\n",
    "s=pd.Series(dtype=int)\n",
    "print(s)"
   ]
  },
  {
   "cell_type": "code",
   "execution_count": 7,
   "id": "1deb4223",
   "metadata": {},
   "outputs": [
    {
     "name": "stdout",
     "output_type": "stream",
     "text": [
      "0    a\n",
      "1    b\n",
      "2    c\n",
      "3    d\n",
      "dtype: object\n"
     ]
    }
   ],
   "source": [
    "import numpy as np\n",
    "data=np.array(['a','b','c','d'])\n",
    "s1=pd.Series(data)\n",
    "print(s1)"
   ]
  },
  {
   "cell_type": "code",
   "execution_count": 8,
   "id": "fd4fa282",
   "metadata": {},
   "outputs": [
    {
     "name": "stdout",
     "output_type": "stream",
     "text": [
      "100    a\n",
      "101    b\n",
      "102    c\n",
      "103    d\n",
      "dtype: object\n"
     ]
    }
   ],
   "source": [
    "s2=pd.Series(data,index=[100,101,102,103])\n",
    "print(s2)"
   ]
  },
  {
   "cell_type": "code",
   "execution_count": 9,
   "id": "dbb641b0",
   "metadata": {},
   "outputs": [
    {
     "name": "stdout",
     "output_type": "stream",
     "text": [
      "a    1.0\n",
      "e    5.0\n",
      "d    4.0\n",
      "b    2.0\n",
      "c    3.0\n",
      "f    NaN\n",
      "dtype: float64\n"
     ]
    }
   ],
   "source": [
    "dic={'a':1,'b':2,'c':3,'d':4,'e':5}\n",
    "s=pd.Series(dic,index=['a','e','d','b','c','f'])\n",
    "print(s)"
   ]
  },
  {
   "cell_type": "code",
   "execution_count": 10,
   "id": "6465bd81",
   "metadata": {},
   "outputs": [
    {
     "name": "stdout",
     "output_type": "stream",
     "text": [
      "0    5\n",
      "1    5\n",
      "2    5\n",
      "3    5\n",
      "4    5\n",
      "5    5\n",
      "dtype: int64\n"
     ]
    }
   ],
   "source": [
    "s=pd.Series(5,[0,1,2,3,4,5])\n",
    "print(s)"
   ]
  },
  {
   "cell_type": "code",
   "execution_count": 11,
   "id": "d518f4ef",
   "metadata": {},
   "outputs": [
    {
     "name": "stdout",
     "output_type": "stream",
     "text": [
      "100\n",
      "0    100\n",
      "1    101\n",
      "2    102\n",
      "dtype: int64\n",
      "4    104\n",
      "5    105\n",
      "dtype: int64\n"
     ]
    }
   ],
   "source": [
    "s=pd.Series([100,101,102,103,104,105,106],index=[0,1,2,3,4,5,6])\n",
    "print(s[0])\n",
    "print(s[:3])\n",
    "print(s[-3:-1])"
   ]
  },
  {
   "cell_type": "code",
   "execution_count": 12,
   "id": "d0ef031a",
   "metadata": {},
   "outputs": [
    {
     "name": "stdout",
     "output_type": "stream",
     "text": [
      "1    101\n",
      "2    102\n",
      "3    103\n",
      "dtype: int64\n"
     ]
    }
   ],
   "source": [
    "print(s[[1,2,3]])"
   ]
  },
  {
   "cell_type": "code",
   "execution_count": 13,
   "id": "08df737a",
   "metadata": {},
   "outputs": [
    {
     "name": "stdout",
     "output_type": "stream",
     "text": [
      "a    100\n",
      "b    101\n",
      "c    102\n",
      "dtype: int64\n"
     ]
    }
   ],
   "source": [
    "s=pd.Series([100,101,102,103,104,105,106],index=['a','b','c','d','e','f','g'])\n",
    "print(s[['a','b','c']])"
   ]
  },
  {
   "cell_type": "code",
   "execution_count": 14,
   "id": "55703351",
   "metadata": {},
   "outputs": [
    {
     "name": "stdout",
     "output_type": "stream",
     "text": [
      "Empty DataFrame\n",
      "Columns: []\n",
      "Index: []\n"
     ]
    }
   ],
   "source": [
    "#Creating Dataframe\n",
    "df=pd.DataFrame()\n",
    "print(df)"
   ]
  },
  {
   "cell_type": "code",
   "execution_count": 15,
   "id": "021a15be",
   "metadata": {},
   "outputs": [
    {
     "name": "stdout",
     "output_type": "stream",
     "text": [
      "   0\n",
      "0  1\n",
      "1  2\n",
      "2  3\n",
      "3  4\n"
     ]
    }
   ],
   "source": [
    "df=pd.DataFrame([1,2,3,4])\n",
    "print(df)"
   ]
  },
  {
   "cell_type": "code",
   "execution_count": 20,
   "id": "c3d51753",
   "metadata": {},
   "outputs": [
    {
     "name": "stdout",
     "output_type": "stream",
     "text": [
      "        Name  phone no\n",
      "0      Navya     70903\n",
      "1  Bharatesh     99167\n",
      "2      Latha     97310\n"
     ]
    }
   ],
   "source": [
    "data=[['Navya',70903],['Bharatesh',99167],['Latha',97310]]\n",
    "df=pd.DataFrame(data,columns=['Name','phone no'],dtype='int')\n",
    "print(df)\n"
   ]
  },
  {
   "cell_type": "code",
   "execution_count": 23,
   "id": "8cd91023",
   "metadata": {},
   "outputs": [
    {
     "name": "stdout",
     "output_type": "stream",
     "text": [
      "        Name Gender\n",
      "First  Navya      f\n",
      "Sec    Nandu      f\n",
      "third   Bhuv      m\n"
     ]
    }
   ],
   "source": [
    "dic={'Name':['Navya','Nandu','Bhuv'],'Gender':['f','f','m']}\n",
    "df=pd.DataFrame(dic,index=['First','Sec','third'],columns=['Name','Gender'])\n",
    "print(df)"
   ]
  },
  {
   "cell_type": "code",
   "execution_count": 24,
   "id": "51505dd6",
   "metadata": {},
   "outputs": [
    {
     "name": "stdout",
     "output_type": "stream",
     "text": [
      "    Name  Age\n",
      "0    Tom   28\n",
      "1   Jack   34\n",
      "2  Steve   29\n",
      "3  Ricky   42\n"
     ]
    }
   ],
   "source": [
    "data = {'Name':['Tom', 'Jack', 'Steve', 'Ricky'],'Age':[28,34,29,42]}\n",
    "df = pd.DataFrame(data)\n",
    "print(df)"
   ]
  },
  {
   "cell_type": "code",
   "execution_count": 57,
   "id": "66bb1058",
   "metadata": {},
   "outputs": [
    {
     "name": "stdout",
     "output_type": "stream",
     "text": [
      "                a  b    c  Name  Gender\n",
      "first   [1, 2, 3]  2  3.0   NaN     NaN\n",
      "second          5  6  NaN   NaN     NaN \n",
      "\n",
      "first     [1, 2, 3]\n",
      "second            5\n",
      "Name: a, dtype: object\n"
     ]
    }
   ],
   "source": [
    "#create df from list odf dictionaries\n",
    "ld=[{'a':[1,2,3],'b':2,'c':3},{'a':5,'b':6}]\n",
    "df=pd.DataFrame(ld,index=['first', 'second'],columns=['a','b','c','Name','Gender'])\n",
    "print(df,\"\\n\")\n",
    "#print(\"\\n\")\n",
    "print(df['a'])"
   ]
  },
  {
   "cell_type": "code",
   "execution_count": 71,
   "id": "f7797911",
   "metadata": {},
   "outputs": [
    {
     "name": "stdout",
     "output_type": "stream",
     "text": [
      "   one  two\n",
      "a  1.0    1\n",
      "b  2.0    2\n",
      "c  3.0    3\n",
      "d  NaN    4\n"
     ]
    }
   ],
   "source": [
    "#Create a DataFrame from Dict of Series\n",
    "dic={'one':pd.Series([1,2,3],index=['a','b','c']),\n",
    "     'two':pd.Series([1,2,3,4],index=['a','b','c','d'])}\n",
    "df=pd.DataFrame(dic)\n",
    "print(df)"
   ]
  },
  {
   "cell_type": "code",
   "execution_count": 72,
   "id": "60dba6f4",
   "metadata": {},
   "outputs": [
    {
     "name": "stdout",
     "output_type": "stream",
     "text": [
      "   one  two  three\n",
      "a  1.0    1    100\n",
      "b  2.0    2    101\n",
      "c  3.0    3    102\n",
      "d  NaN    4    103\n"
     ]
    }
   ],
   "source": [
    "df[\"three\"]=pd.Series([100,101,102,103],index=['a','b','c','d'])\n",
    "print(df)"
   ]
  },
  {
   "cell_type": "code",
   "execution_count": 73,
   "id": "3e8fb3ad",
   "metadata": {},
   "outputs": [
    {
     "name": "stdout",
     "output_type": "stream",
     "text": [
      "   one  two  three   four\n",
      "a  1.0    1    100  101.0\n",
      "b  2.0    2    101  103.0\n",
      "c  3.0    3    102  105.0\n",
      "d  NaN    4    103    NaN\n"
     ]
    }
   ],
   "source": [
    "df['four']=df['one']+df['three']\n",
    "print(df)"
   ]
  },
  {
   "cell_type": "code",
   "execution_count": 74,
   "id": "3e458a6c",
   "metadata": {},
   "outputs": [
    {
     "name": "stdout",
     "output_type": "stream",
     "text": [
      "   one  two  three\n",
      "a  1.0    1    100\n",
      "b  2.0    2    101\n",
      "c  3.0    3    102\n",
      "d  NaN    4    103\n"
     ]
    }
   ],
   "source": [
    "del(df['four'])\n",
    "print(df)"
   ]
  },
  {
   "cell_type": "code",
   "execution_count": 75,
   "id": "5601b5ce",
   "metadata": {},
   "outputs": [
    {
     "name": "stdout",
     "output_type": "stream",
     "text": [
      "   one  two\n",
      "a  1.0    1\n",
      "b  2.0    2\n",
      "c  3.0    3\n",
      "d  NaN    4\n"
     ]
    }
   ],
   "source": [
    "df.pop('three')\n",
    "print(df)"
   ]
  },
  {
   "cell_type": "code",
   "execution_count": 76,
   "id": "db1c9c58",
   "metadata": {},
   "outputs": [
    {
     "name": "stdout",
     "output_type": "stream",
     "text": [
      "one    2.0\n",
      "two    2.0\n",
      "Name: b, dtype: float64\n"
     ]
    }
   ],
   "source": [
    "#Row Selection\n",
    "print(df.loc['b'])"
   ]
  },
  {
   "cell_type": "code",
   "execution_count": 77,
   "id": "98d51a50",
   "metadata": {},
   "outputs": [
    {
     "name": "stdout",
     "output_type": "stream",
     "text": [
      "one    2.0\n",
      "two    2.0\n",
      "Name: b, dtype: float64\n"
     ]
    }
   ],
   "source": [
    "print(df.iloc[1])"
   ]
  },
  {
   "cell_type": "code",
   "execution_count": 79,
   "id": "7b68efad",
   "metadata": {},
   "outputs": [
    {
     "name": "stdout",
     "output_type": "stream",
     "text": [
      "   one  two\n",
      "a  1.0    1\n",
      "b  2.0    2\n",
      "c  3.0    3\n",
      "d  NaN    4\n"
     ]
    }
   ],
   "source": [
    "print(df[0:5])"
   ]
  },
  {
   "cell_type": "code",
   "execution_count": 106,
   "id": "52b108d9",
   "metadata": {},
   "outputs": [
    {
     "name": "stdout",
     "output_type": "stream",
     "text": [
      "     Name  Score\n",
      "0   Navya     20\n",
      "1   Nandu     30\n",
      "0  Bhuvan     40\n",
      "1    Appu     35\n",
      "     Name  Score\n",
      "0   Navya     20\n",
      "0  Bhuvan     40 \n",
      "\n",
      "    Name  Score\n",
      "1  Nandu     30\n",
      "1   Appu     35 \n",
      "\n"
     ]
    }
   ],
   "source": [
    "df1=pd.DataFrame([['Navya',20],['Nandu',30]],columns=['Name','Score'])\n",
    "df2=pd.DataFrame([['Bhuvan',40],['Appu',35]],columns=['Name','Score'])\n",
    "df1=df1.append(df2)\n",
    "print(df1)\n",
    "print(df1.loc[0],'\\n')\n",
    "df1=df1.drop(0)\n",
    "print(df1,'\\n')"
   ]
  },
  {
   "cell_type": "code",
   "execution_count": 84,
   "id": "a8a224c8",
   "metadata": {},
   "outputs": [
    {
     "name": "stdout",
     "output_type": "stream",
     "text": [
      "        Name Gender\n",
      "First  Navya      f\n",
      "Sec    Nandu      f\n",
      "third   Bhuv      m\n"
     ]
    }
   ],
   "source": [
    "dic={'Name':['Navya','Nandu','Bhuv'],'Gender':['f','f','m']}\n",
    "df=pd.DataFrame(dic,index=['First','Sec','third'],columns=['Name','Gender'])\n",
    "print(df)"
   ]
  },
  {
   "cell_type": "code",
   "execution_count": 86,
   "id": "365cdd94",
   "metadata": {},
   "outputs": [
    {
     "name": "stdout",
     "output_type": "stream",
     "text": [
      "                a  b    c\n",
      "first   [1, 2, 3]  2  3.0\n",
      "second          5  6  NaN\n"
     ]
    }
   ],
   "source": [
    "ld=[{'a':[1,2,3],'b':2,'c':3},{'a':5,'b':6}]\n",
    "df=pd.DataFrame(ld,index=['first', 'second'],columns=['a','b','c'])\n",
    "print(df)"
   ]
  },
  {
   "cell_type": "code",
   "execution_count": 101,
   "id": "a693ab4c",
   "metadata": {},
   "outputs": [
    {
     "name": "stdout",
     "output_type": "stream",
     "text": [
      "   a  b\n",
      "0  1  2\n",
      "1  3  4\n",
      "0  5  6\n",
      "1  7  8\n"
     ]
    }
   ],
   "source": [
    "df = pd.DataFrame([[1, 2], [3, 4]], columns = ['a','b'])\n",
    "df2 = pd.DataFrame([[5, 6], [7, 8]], columns = ['a','b'])\n",
    "\n",
    "df = df.append(df2)\n",
    "print(df)"
   ]
  },
  {
   "cell_type": "code",
   "execution_count": null,
   "id": "c43ccafe",
   "metadata": {},
   "outputs": [],
   "source": []
  }
 ],
 "metadata": {
  "kernelspec": {
   "display_name": "Python 3",
   "language": "python",
   "name": "python3"
  },
  "language_info": {
   "codemirror_mode": {
    "name": "ipython",
    "version": 3
   },
   "file_extension": ".py",
   "mimetype": "text/x-python",
   "name": "python",
   "nbconvert_exporter": "python",
   "pygments_lexer": "ipython3",
   "version": "3.9.4"
  }
 },
 "nbformat": 4,
 "nbformat_minor": 5
}
